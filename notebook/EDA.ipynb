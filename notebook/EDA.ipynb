{
 "cells": [
  {
   "cell_type": "code",
   "execution_count": 1,
   "id": "10c4464b-d014-493a-801b-992c3a2649c5",
   "metadata": {},
   "outputs": [],
   "source": [
    "import pandas as pd\n",
    "import numpy as np\n",
    "import seaborn as sns\n",
    "import matplotlib.pyplot as plt "
   ]
  },
  {
   "cell_type": "code",
   "execution_count": 2,
   "id": "b20deffd-42a0-4e5c-aeea-817bde4986d6",
   "metadata": {},
   "outputs": [
    {
     "data": {
      "text/html": [
       "<div>\n",
       "<style scoped>\n",
       "    .dataframe tbody tr th:only-of-type {\n",
       "        vertical-align: middle;\n",
       "    }\n",
       "\n",
       "    .dataframe tbody tr th {\n",
       "        vertical-align: top;\n",
       "    }\n",
       "\n",
       "    .dataframe thead th {\n",
       "        text-align: right;\n",
       "    }\n",
       "</style>\n",
       "<table border=\"1\" class=\"dataframe\">\n",
       "  <thead>\n",
       "    <tr style=\"text-align: right;\">\n",
       "      <th></th>\n",
       "      <th>College_ID</th>\n",
       "      <th>IQ</th>\n",
       "      <th>Prev_Sem_Result</th>\n",
       "      <th>CGPA</th>\n",
       "      <th>Academic_Performance</th>\n",
       "      <th>Internship_Experience</th>\n",
       "      <th>Extra_Curricular_Score</th>\n",
       "      <th>Communication_Skills</th>\n",
       "      <th>Projects_Completed</th>\n",
       "      <th>Placement</th>\n",
       "    </tr>\n",
       "  </thead>\n",
       "  <tbody>\n",
       "    <tr>\n",
       "      <th>0</th>\n",
       "      <td>CLG0030</td>\n",
       "      <td>107</td>\n",
       "      <td>6.61</td>\n",
       "      <td>6.28</td>\n",
       "      <td>8</td>\n",
       "      <td>No</td>\n",
       "      <td>8</td>\n",
       "      <td>8</td>\n",
       "      <td>4</td>\n",
       "      <td>No</td>\n",
       "    </tr>\n",
       "    <tr>\n",
       "      <th>1</th>\n",
       "      <td>CLG0061</td>\n",
       "      <td>97</td>\n",
       "      <td>5.52</td>\n",
       "      <td>5.37</td>\n",
       "      <td>8</td>\n",
       "      <td>No</td>\n",
       "      <td>7</td>\n",
       "      <td>8</td>\n",
       "      <td>0</td>\n",
       "      <td>No</td>\n",
       "    </tr>\n",
       "    <tr>\n",
       "      <th>2</th>\n",
       "      <td>CLG0036</td>\n",
       "      <td>109</td>\n",
       "      <td>5.36</td>\n",
       "      <td>5.83</td>\n",
       "      <td>9</td>\n",
       "      <td>No</td>\n",
       "      <td>3</td>\n",
       "      <td>1</td>\n",
       "      <td>1</td>\n",
       "      <td>No</td>\n",
       "    </tr>\n",
       "  </tbody>\n",
       "</table>\n",
       "</div>"
      ],
      "text/plain": [
       "  College_ID   IQ  Prev_Sem_Result  CGPA  Academic_Performance  \\\n",
       "0    CLG0030  107             6.61  6.28                     8   \n",
       "1    CLG0061   97             5.52  5.37                     8   \n",
       "2    CLG0036  109             5.36  5.83                     9   \n",
       "\n",
       "  Internship_Experience  Extra_Curricular_Score  Communication_Skills  \\\n",
       "0                    No                       8                     8   \n",
       "1                    No                       7                     8   \n",
       "2                    No                       3                     1   \n",
       "\n",
       "   Projects_Completed Placement  \n",
       "0                   4        No  \n",
       "1                   0        No  \n",
       "2                   1        No  "
      ]
     },
     "execution_count": 2,
     "metadata": {},
     "output_type": "execute_result"
    }
   ],
   "source": [
    "df = pd.read_csv('data/CollegePlacement.csv')\n",
    "df.head(3)"
   ]
  },
  {
   "cell_type": "code",
   "execution_count": 3,
   "id": "aa19a67d-92b2-404c-8c12-90a7f9cb9c1f",
   "metadata": {},
   "outputs": [
    {
     "data": {
      "text/plain": [
       "(10000, 10)"
      ]
     },
     "execution_count": 3,
     "metadata": {},
     "output_type": "execute_result"
    }
   ],
   "source": [
    "df.shape"
   ]
  },
  {
   "cell_type": "code",
   "execution_count": 4,
   "id": "e07ca43f-b97c-4b3c-9cad-46d781ceda57",
   "metadata": {},
   "outputs": [
    {
     "data": {
      "text/plain": [
       "Index(['College_ID', 'IQ', 'Prev_Sem_Result', 'CGPA', 'Academic_Performance',\n",
       "       'Internship_Experience', 'Extra_Curricular_Score',\n",
       "       'Communication_Skills', 'Projects_Completed', 'Placement'],\n",
       "      dtype='object')"
      ]
     },
     "execution_count": 4,
     "metadata": {},
     "output_type": "execute_result"
    }
   ],
   "source": [
    "df.columns"
   ]
  },
  {
   "cell_type": "code",
   "execution_count": 5,
   "id": "3356500a-1748-4aa1-a7fe-94742885e434",
   "metadata": {},
   "outputs": [
    {
     "name": "stdout",
     "output_type": "stream",
     "text": [
      "<class 'pandas.core.frame.DataFrame'>\n",
      "RangeIndex: 10000 entries, 0 to 9999\n",
      "Data columns (total 10 columns):\n",
      " #   Column                  Non-Null Count  Dtype  \n",
      "---  ------                  --------------  -----  \n",
      " 0   College_ID              10000 non-null  object \n",
      " 1   IQ                      10000 non-null  int64  \n",
      " 2   Prev_Sem_Result         10000 non-null  float64\n",
      " 3   CGPA                    10000 non-null  float64\n",
      " 4   Academic_Performance    10000 non-null  int64  \n",
      " 5   Internship_Experience   10000 non-null  object \n",
      " 6   Extra_Curricular_Score  10000 non-null  int64  \n",
      " 7   Communication_Skills    10000 non-null  int64  \n",
      " 8   Projects_Completed      10000 non-null  int64  \n",
      " 9   Placement               10000 non-null  object \n",
      "dtypes: float64(2), int64(5), object(3)\n",
      "memory usage: 781.4+ KB\n"
     ]
    }
   ],
   "source": [
    "df.info()"
   ]
  },
  {
   "cell_type": "code",
   "execution_count": 6,
   "id": "d73cbdde-23a6-4393-b90f-927b3ee4ff99",
   "metadata": {},
   "outputs": [
    {
     "data": {
      "text/html": [
       "<div>\n",
       "<style scoped>\n",
       "    .dataframe tbody tr th:only-of-type {\n",
       "        vertical-align: middle;\n",
       "    }\n",
       "\n",
       "    .dataframe tbody tr th {\n",
       "        vertical-align: top;\n",
       "    }\n",
       "\n",
       "    .dataframe thead th {\n",
       "        text-align: right;\n",
       "    }\n",
       "</style>\n",
       "<table border=\"1\" class=\"dataframe\">\n",
       "  <thead>\n",
       "    <tr style=\"text-align: right;\">\n",
       "      <th></th>\n",
       "      <th>count</th>\n",
       "      <th>unique</th>\n",
       "      <th>top</th>\n",
       "      <th>freq</th>\n",
       "      <th>mean</th>\n",
       "      <th>std</th>\n",
       "      <th>min</th>\n",
       "      <th>25%</th>\n",
       "      <th>50%</th>\n",
       "      <th>75%</th>\n",
       "      <th>max</th>\n",
       "    </tr>\n",
       "  </thead>\n",
       "  <tbody>\n",
       "    <tr>\n",
       "      <th>College_ID</th>\n",
       "      <td>10000</td>\n",
       "      <td>100</td>\n",
       "      <td>CLG0062</td>\n",
       "      <td>133</td>\n",
       "      <td>NaN</td>\n",
       "      <td>NaN</td>\n",
       "      <td>NaN</td>\n",
       "      <td>NaN</td>\n",
       "      <td>NaN</td>\n",
       "      <td>NaN</td>\n",
       "      <td>NaN</td>\n",
       "    </tr>\n",
       "    <tr>\n",
       "      <th>IQ</th>\n",
       "      <td>10000.0</td>\n",
       "      <td>NaN</td>\n",
       "      <td>NaN</td>\n",
       "      <td>NaN</td>\n",
       "      <td>99.4718</td>\n",
       "      <td>15.053101</td>\n",
       "      <td>41.0</td>\n",
       "      <td>89.0</td>\n",
       "      <td>99.0</td>\n",
       "      <td>110.0</td>\n",
       "      <td>158.0</td>\n",
       "    </tr>\n",
       "    <tr>\n",
       "      <th>Prev_Sem_Result</th>\n",
       "      <td>10000.0</td>\n",
       "      <td>NaN</td>\n",
       "      <td>NaN</td>\n",
       "      <td>NaN</td>\n",
       "      <td>7.535673</td>\n",
       "      <td>1.447519</td>\n",
       "      <td>5.0</td>\n",
       "      <td>6.29</td>\n",
       "      <td>7.56</td>\n",
       "      <td>8.79</td>\n",
       "      <td>10.0</td>\n",
       "    </tr>\n",
       "    <tr>\n",
       "      <th>CGPA</th>\n",
       "      <td>10000.0</td>\n",
       "      <td>NaN</td>\n",
       "      <td>NaN</td>\n",
       "      <td>NaN</td>\n",
       "      <td>7.532379</td>\n",
       "      <td>1.470141</td>\n",
       "      <td>4.54</td>\n",
       "      <td>6.29</td>\n",
       "      <td>7.55</td>\n",
       "      <td>8.77</td>\n",
       "      <td>10.46</td>\n",
       "    </tr>\n",
       "    <tr>\n",
       "      <th>Academic_Performance</th>\n",
       "      <td>10000.0</td>\n",
       "      <td>NaN</td>\n",
       "      <td>NaN</td>\n",
       "      <td>NaN</td>\n",
       "      <td>5.5464</td>\n",
       "      <td>2.873477</td>\n",
       "      <td>1.0</td>\n",
       "      <td>3.0</td>\n",
       "      <td>6.0</td>\n",
       "      <td>8.0</td>\n",
       "      <td>10.0</td>\n",
       "    </tr>\n",
       "    <tr>\n",
       "      <th>Internship_Experience</th>\n",
       "      <td>10000</td>\n",
       "      <td>2</td>\n",
       "      <td>No</td>\n",
       "      <td>6036</td>\n",
       "      <td>NaN</td>\n",
       "      <td>NaN</td>\n",
       "      <td>NaN</td>\n",
       "      <td>NaN</td>\n",
       "      <td>NaN</td>\n",
       "      <td>NaN</td>\n",
       "      <td>NaN</td>\n",
       "    </tr>\n",
       "    <tr>\n",
       "      <th>Extra_Curricular_Score</th>\n",
       "      <td>10000.0</td>\n",
       "      <td>NaN</td>\n",
       "      <td>NaN</td>\n",
       "      <td>NaN</td>\n",
       "      <td>4.9709</td>\n",
       "      <td>3.160103</td>\n",
       "      <td>0.0</td>\n",
       "      <td>2.0</td>\n",
       "      <td>5.0</td>\n",
       "      <td>8.0</td>\n",
       "      <td>10.0</td>\n",
       "    </tr>\n",
       "    <tr>\n",
       "      <th>Communication_Skills</th>\n",
       "      <td>10000.0</td>\n",
       "      <td>NaN</td>\n",
       "      <td>NaN</td>\n",
       "      <td>NaN</td>\n",
       "      <td>5.5618</td>\n",
       "      <td>2.900866</td>\n",
       "      <td>1.0</td>\n",
       "      <td>3.0</td>\n",
       "      <td>6.0</td>\n",
       "      <td>8.0</td>\n",
       "      <td>10.0</td>\n",
       "    </tr>\n",
       "    <tr>\n",
       "      <th>Projects_Completed</th>\n",
       "      <td>10000.0</td>\n",
       "      <td>NaN</td>\n",
       "      <td>NaN</td>\n",
       "      <td>NaN</td>\n",
       "      <td>2.5134</td>\n",
       "      <td>1.715959</td>\n",
       "      <td>0.0</td>\n",
       "      <td>1.0</td>\n",
       "      <td>3.0</td>\n",
       "      <td>4.0</td>\n",
       "      <td>5.0</td>\n",
       "    </tr>\n",
       "    <tr>\n",
       "      <th>Placement</th>\n",
       "      <td>10000</td>\n",
       "      <td>2</td>\n",
       "      <td>No</td>\n",
       "      <td>8341</td>\n",
       "      <td>NaN</td>\n",
       "      <td>NaN</td>\n",
       "      <td>NaN</td>\n",
       "      <td>NaN</td>\n",
       "      <td>NaN</td>\n",
       "      <td>NaN</td>\n",
       "      <td>NaN</td>\n",
       "    </tr>\n",
       "  </tbody>\n",
       "</table>\n",
       "</div>"
      ],
      "text/plain": [
       "                          count unique      top  freq      mean        std  \\\n",
       "College_ID                10000    100  CLG0062   133       NaN        NaN   \n",
       "IQ                      10000.0    NaN      NaN   NaN   99.4718  15.053101   \n",
       "Prev_Sem_Result         10000.0    NaN      NaN   NaN  7.535673   1.447519   \n",
       "CGPA                    10000.0    NaN      NaN   NaN  7.532379   1.470141   \n",
       "Academic_Performance    10000.0    NaN      NaN   NaN    5.5464   2.873477   \n",
       "Internship_Experience     10000      2       No  6036       NaN        NaN   \n",
       "Extra_Curricular_Score  10000.0    NaN      NaN   NaN    4.9709   3.160103   \n",
       "Communication_Skills    10000.0    NaN      NaN   NaN    5.5618   2.900866   \n",
       "Projects_Completed      10000.0    NaN      NaN   NaN    2.5134   1.715959   \n",
       "Placement                 10000      2       No  8341       NaN        NaN   \n",
       "\n",
       "                         min   25%   50%    75%    max  \n",
       "College_ID               NaN   NaN   NaN    NaN    NaN  \n",
       "IQ                      41.0  89.0  99.0  110.0  158.0  \n",
       "Prev_Sem_Result          5.0  6.29  7.56   8.79   10.0  \n",
       "CGPA                    4.54  6.29  7.55   8.77  10.46  \n",
       "Academic_Performance     1.0   3.0   6.0    8.0   10.0  \n",
       "Internship_Experience    NaN   NaN   NaN    NaN    NaN  \n",
       "Extra_Curricular_Score   0.0   2.0   5.0    8.0   10.0  \n",
       "Communication_Skills     1.0   3.0   6.0    8.0   10.0  \n",
       "Projects_Completed       0.0   1.0   3.0    4.0    5.0  \n",
       "Placement                NaN   NaN   NaN    NaN    NaN  "
      ]
     },
     "execution_count": 6,
     "metadata": {},
     "output_type": "execute_result"
    }
   ],
   "source": [
    "df.describe(include='all').T"
   ]
  },
  {
   "cell_type": "code",
   "execution_count": 7,
   "id": "4d76ae3a-2c0a-4e75-85cb-499a0142c627",
   "metadata": {},
   "outputs": [
    {
     "data": {
      "text/plain": [
       "Index(['IQ', 'Prev_Sem_Result', 'CGPA', 'Academic_Performance',\n",
       "       'Extra_Curricular_Score', 'Communication_Skills', 'Projects_Completed'],\n",
       "      dtype='object')"
      ]
     },
     "execution_count": 7,
     "metadata": {},
     "output_type": "execute_result"
    }
   ],
   "source": [
    "num_cols = df.select_dtypes(include='number').columns\n",
    "cat_cols = df.select_dtypes(exclude='number').columns\n",
    "num_cols"
   ]
  },
  {
   "cell_type": "code",
   "execution_count": 8,
   "id": "3b8658ae-943d-47ed-8f1c-f766d049a0e1",
   "metadata": {},
   "outputs": [
    {
     "data": {
      "text/plain": [
       "Index(['College_ID', 'Internship_Experience', 'Placement'], dtype='object')"
      ]
     },
     "execution_count": 8,
     "metadata": {},
     "output_type": "execute_result"
    }
   ],
   "source": [
    "cat_cols"
   ]
  },
  {
   "cell_type": "code",
   "execution_count": 9,
   "id": "19227b32-8bee-4644-9f61-fc61f362b92d",
   "metadata": {
    "scrolled": true
   },
   "outputs": [
    {
     "data": {
      "image/png": "[encoded data removed]",
      "text/plain": [
       "<Figure size 200x200 with 1 Axes>"
      ]
     },
     "metadata": {},
     "output_type": "display_data"
    },
    {
     "data": {
      "image/png": "[encoded data removed]",
      "text/plain": [
       "<Figure size 200x200 with 1 Axes>"
      ]
     },
     "metadata": {},
     "output_type": "display_data"
    },
    {
     "data": {
      "image/png": "[encoded data removed]",
      "text/plain": [
       "<Figure size 200x200 with 1 Axes>"
      ]
     },
     "metadata": {},
     "output_type": "display_data"
    },
    {
     "data": {
      "image/png": "[encoded data removed]",
      "text/plain": [
       "<Figure size 200x200 with 1 Axes>"
      ]
     },
     "metadata": {},
     "output_type": "display_data"
    },
    {
     "data": {
      "image/png": "[encoded data removed]",
      "text/plain": [
       "<Figure size 200x200 with 1 Axes>"
      ]
     },
     "metadata": {},
     "output_type": "display_data"
    },
    {
     "data": {
      "image/png": "[encoded data removed]",
      "text/plain": [
       "<Figure size 200x200 with 1 Axes>"
      ]
     },
     "metadata": {},
     "output_type": "display_data"
    },
    {
     "data": {
      "image/png": "[encoded data removed]",
      "text/plain": [
       "<Figure size 200x200 with 1 Axes>"
      ]
     },
     "metadata": {},
     "output_type": "display_data"
    }
   ],
   "source": [
    "for i in num_cols:\n",
    "    plt.figure(figsize=(2,2))\n",
    "    sns.histplot(df[i], kde=True, bins=30)\n",
    "    plt.title(f\"{i}\")\n",
    "    plt.show()"
   ]
  },
  {
   "cell_type": "code",
   "execution_count": 10,
   "id": "78541ff0-41c6-4916-ad5f-aefea22183b7",
   "metadata": {
    "scrolled": true
   },
   "outputs": [
    {
     "data": {
      "image/png": "[encoded data removed]",
      "text/plain": [
       "<Figure size 300x300 with 1 Axes>"
      ]
     },
     "metadata": {},
     "output_type": "display_data"
    },
    {
     "data": {
      "image/png": "[encoded data removed]",
      "text/plain": [
       "<Figure size 300x300 with 1 Axes>"
      ]
     },
     "metadata": {},
     "output_type": "display_data"
    },
    {
     "data": {
      "image/png": "[encoded data removed]",
      "text/plain": [
       "<Figure size 300x300 with 1 Axes>"
      ]
     },
     "metadata": {},
     "output_type": "display_data"
    },
    {
     "data": {
      "image/png": "[encoded data removed]",
      "text/plain": [
       "<Figure size 300x300 with 1 Axes>"
      ]
     },
     "metadata": {},
     "output_type": "display_data"
    },
    {
     "data": {
      "image/png": "[encoded data removed]",
      "text/plain": [
       "<Figure size 300x300 with 1 Axes>"
      ]
     },
     "metadata": {},
     "output_type": "display_data"
    },
    {
     "data": {
      "image/png": "[encoded data removed]",
      "text/plain": [
       "<Figure size 300x300 with 1 Axes>"
      ]
     },
     "metadata": {},
     "output_type": "display_data"
    },
    {
     "data": {
      "image/png": "[encoded data removed]",
      "text/plain": [
       "<Figure size 300x300 with 1 Axes>"
      ]
     },
     "metadata": {},
     "output_type": "display_data"
    }
   ],
   "source": [
    "for i in num_cols:\n",
    "    plt.figure(figsize=(3,3))\n",
    "    sns.boxplot(df[i])\n",
    "    plt.show()"
   ]
  },
  {
   "cell_type": "code",
   "execution_count": 11,
   "id": "a442ac31-a683-43d9-85b2-5b5f9c9cce16",
   "metadata": {},
   "outputs": [],
   "source": [
    "data = df.drop(cat_cols, axis=1)\n",
    "corr_matrix = data.corr()"
   ]
  },
  {
   "cell_type": "code",
   "execution_count": 12,
   "id": "4dba07ca-db1f-4633-8ce5-97c39496b238",
   "metadata": {},
   "outputs": [
    {
     "data": {
      "text/html": [
       "<div>\n",
       "<style scoped>\n",
       "    .dataframe tbody tr th:only-of-type {\n",
       "        vertical-align: middle;\n",
       "    }\n",
       "\n",
       "    .dataframe tbody tr th {\n",
       "        vertical-align: top;\n",
       "    }\n",
       "\n",
       "    .dataframe thead th {\n",
       "        text-align: right;\n",
       "    }\n",
       "</style>\n",
       "<table border=\"1\" class=\"dataframe\">\n",
       "  <thead>\n",
       "    <tr style=\"text-align: right;\">\n",
       "      <th></th>\n",
       "      <th>IQ</th>\n",
       "      <th>Prev_Sem_Result</th>\n",
       "      <th>CGPA</th>\n",
       "      <th>Academic_Performance</th>\n",
       "      <th>Extra_Curricular_Score</th>\n",
       "      <th>Communication_Skills</th>\n",
       "      <th>Projects_Completed</th>\n",
       "    </tr>\n",
       "  </thead>\n",
       "  <tbody>\n",
       "    <tr>\n",
       "      <th>IQ</th>\n",
       "      <td>0.000000</td>\n",
       "      <td>-0.002640</td>\n",
       "      <td>-0.002859</td>\n",
       "      <td>-0.006827</td>\n",
       "      <td>-0.003458</td>\n",
       "      <td>-0.010896</td>\n",
       "      <td>0.014538</td>\n",
       "    </tr>\n",
       "    <tr>\n",
       "      <th>Prev_Sem_Result</th>\n",
       "      <td>-0.002640</td>\n",
       "      <td>0.000000</td>\n",
       "      <td>0.980768</td>\n",
       "      <td>-0.005765</td>\n",
       "      <td>0.009326</td>\n",
       "      <td>-0.017269</td>\n",
       "      <td>0.018434</td>\n",
       "    </tr>\n",
       "    <tr>\n",
       "      <th>CGPA</th>\n",
       "      <td>-0.002859</td>\n",
       "      <td>0.980768</td>\n",
       "      <td>0.000000</td>\n",
       "      <td>-0.002958</td>\n",
       "      <td>0.011441</td>\n",
       "      <td>-0.018242</td>\n",
       "      <td>0.020872</td>\n",
       "    </tr>\n",
       "    <tr>\n",
       "      <th>Academic_Performance</th>\n",
       "      <td>-0.006827</td>\n",
       "      <td>-0.005765</td>\n",
       "      <td>-0.002958</td>\n",
       "      <td>0.000000</td>\n",
       "      <td>0.011774</td>\n",
       "      <td>-0.019733</td>\n",
       "      <td>-0.013148</td>\n",
       "    </tr>\n",
       "    <tr>\n",
       "      <th>Extra_Curricular_Score</th>\n",
       "      <td>-0.003458</td>\n",
       "      <td>0.009326</td>\n",
       "      <td>0.011441</td>\n",
       "      <td>0.011774</td>\n",
       "      <td>0.000000</td>\n",
       "      <td>0.003769</td>\n",
       "      <td>0.008122</td>\n",
       "    </tr>\n",
       "    <tr>\n",
       "      <th>Communication_Skills</th>\n",
       "      <td>-0.010896</td>\n",
       "      <td>-0.017269</td>\n",
       "      <td>-0.018242</td>\n",
       "      <td>-0.019733</td>\n",
       "      <td>0.003769</td>\n",
       "      <td>0.000000</td>\n",
       "      <td>-0.004486</td>\n",
       "    </tr>\n",
       "    <tr>\n",
       "      <th>Projects_Completed</th>\n",
       "      <td>0.014538</td>\n",
       "      <td>0.018434</td>\n",
       "      <td>0.020872</td>\n",
       "      <td>-0.013148</td>\n",
       "      <td>0.008122</td>\n",
       "      <td>-0.004486</td>\n",
       "      <td>0.000000</td>\n",
       "    </tr>\n",
       "  </tbody>\n",
       "</table>\n",
       "</div>"
      ],
      "text/plain": [
       "                              IQ  Prev_Sem_Result      CGPA  \\\n",
       "IQ                      0.000000        -0.002640 -0.002859   \n",
       "Prev_Sem_Result        -0.002640         0.000000  0.980768   \n",
       "CGPA                   -0.002859         0.980768  0.000000   \n",
       "Academic_Performance   -0.006827        -0.005765 -0.002958   \n",
       "Extra_Curricular_Score -0.003458         0.009326  0.011441   \n",
       "Communication_Skills   -0.010896        -0.017269 -0.018242   \n",
       "Projects_Completed      0.014538         0.018434  0.020872   \n",
       "\n",
       "                        Academic_Performance  Extra_Curricular_Score  \\\n",
       "IQ                                 -0.006827               -0.003458   \n",
       "Prev_Sem_Result                    -0.005765                0.009326   \n",
       "CGPA                               -0.002958                0.011441   \n",
       "Academic_Performance                0.000000                0.011774   \n",
       "Extra_Curricular_Score              0.011774                0.000000   \n",
       "Communication_Skills               -0.019733                0.003769   \n",
       "Projects_Completed                 -0.013148                0.008122   \n",
       "\n",
       "                        Communication_Skills  Projects_Completed  \n",
       "IQ                                 -0.010896            0.014538  \n",
       "Prev_Sem_Result                    -0.017269            0.018434  \n",
       "CGPA                               -0.018242            0.020872  \n",
       "Academic_Performance               -0.019733           -0.013148  \n",
       "Extra_Curricular_Score              0.003769            0.008122  \n",
       "Communication_Skills                0.000000           -0.004486  \n",
       "Projects_Completed                 -0.004486            0.000000  "
      ]
     },
     "execution_count": 12,
     "metadata": {},
     "output_type": "execute_result"
    }
   ],
   "source": [
    "np.fill_diagonal(corr_matrix.values,0)\n",
    "corr_matrix"
   ]
  },
  {
   "cell_type": "code",
   "execution_count": 13,
   "id": "0d3e150b-53f5-43e9-ada8-ccc150e7227d",
   "metadata": {},
   "outputs": [
    {
     "name": "stdout",
     "output_type": "stream",
     "text": [
      "Maximum correlated pair: ('Prev_Sem_Result', 'CGPA')\n",
      "Correlation Value: 0.9807680541535467\n"
     ]
    }
   ],
   "source": [
    "abs_matrix = corr_matrix.abs()\n",
    "\n",
    "max_corr = abs_matrix.stack().idxmax()\n",
    "corr_value = corr_matrix.loc[max_corr[0],max_corr[1]]\n",
    "\n",
    "print(f'Maximum correlated pair: {max_corr}')\n",
    "print(f'Correlation Value: {corr_value}')"
   ]
  },
  {
   "cell_type": "code",
   "execution_count": 14,
   "id": "0c2c408f-65fd-42a3-a8a4-daefd34883a4",
   "metadata": {},
   "outputs": [],
   "source": [
    "sort_corr = abs_matrix.stack().sort_values(ascending=False)\n",
    "sort_corr.drop_duplicates(inplace=True)"
   ]
  },
  {
   "cell_type": "code",
   "execution_count": 15,
   "id": "9310159b-b6ef-4cb2-a4e2-54d4b99c1766",
   "metadata": {},
   "outputs": [
    {
     "name": "stdout",
     "output_type": "stream",
     "text": [
      "Maximum Correlation: ('CGPA', 'Prev_Sem_Result')\n",
      "Correlation Value: 0.9807680541535467\n",
      "Maximum Correlation: ('CGPA', 'Projects_Completed')\n",
      "Correlation Value: 0.020872420853110477\n",
      "Maximum Correlation: ('Communication_Skills', 'Academic_Performance')\n",
      "Correlation Value: 0.01973277416551061\n",
      "Maximum Correlation: ('Prev_Sem_Result', 'Projects_Completed')\n",
      "Correlation Value: 0.018433663872536882\n",
      "Maximum Correlation: ('Communication_Skills', 'CGPA')\n",
      "Correlation Value: 0.01824199507951977\n"
     ]
    }
   ],
   "source": [
    "for (col1, col2), corr_val in sort_corr.head(5).items():\n",
    "    print(f'Maximum Correlation: {(col1, col2)}')\n",
    "    print(f'Correlation Value: {corr_val}')"
   ]
  },
  {
   "cell_type": "code",
   "execution_count": 16,
   "id": "f5e464ed-0b02-4e56-a270-48e3dca17f99",
   "metadata": {},
   "outputs": [
    {
     "data": {
      "text/html": [
       "<div>\n",
       "<style scoped>\n",
       "    .dataframe tbody tr th:only-of-type {\n",
       "        vertical-align: middle;\n",
       "    }\n",
       "\n",
       "    .dataframe tbody tr th {\n",
       "        vertical-align: top;\n",
       "    }\n",
       "\n",
       "    .dataframe thead th {\n",
       "        text-align: right;\n",
       "    }\n",
       "</style>\n",
       "<table border=\"1\" class=\"dataframe\">\n",
       "  <thead>\n",
       "    <tr style=\"text-align: right;\">\n",
       "      <th></th>\n",
       "      <th>college_id</th>\n",
       "      <th>iq</th>\n",
       "      <th>prev_sem_result</th>\n",
       "      <th>cgpa</th>\n",
       "      <th>academic_performance</th>\n",
       "      <th>internship_experience</th>\n",
       "      <th>extra_curricular_score</th>\n",
       "      <th>communication_skills</th>\n",
       "      <th>projects_completed</th>\n",
       "      <th>placement</th>\n",
       "    </tr>\n",
       "  </thead>\n",
       "  <tbody>\n",
       "    <tr>\n",
       "      <th>0</th>\n",
       "      <td>CLG0030</td>\n",
       "      <td>107</td>\n",
       "      <td>6.61</td>\n",
       "      <td>6.28</td>\n",
       "      <td>8</td>\n",
       "      <td>No</td>\n",
       "      <td>8</td>\n",
       "      <td>8</td>\n",
       "      <td>4</td>\n",
       "      <td>No</td>\n",
       "    </tr>\n",
       "  </tbody>\n",
       "</table>\n",
       "</div>"
      ],
      "text/plain": [
       "  college_id   iq  prev_sem_result  cgpa  academic_performance  \\\n",
       "0    CLG0030  107             6.61  6.28                     8   \n",
       "\n",
       "  internship_experience  extra_curricular_score  communication_skills  \\\n",
       "0                    No                       8                     8   \n",
       "\n",
       "   projects_completed placement  \n",
       "0                   4        No  "
      ]
     },
     "execution_count": 16,
     "metadata": {},
     "output_type": "execute_result"
    }
   ],
   "source": [
    "df = df.rename(columns= lambda x : x.lower())\n",
    "df.head(1)"
   ]
  },
  {
   "cell_type": "code",
   "execution_count": 17,
   "id": "7af9ad4b-23c0-45d3-bf4e-60cfe2dce4f9",
   "metadata": {},
   "outputs": [],
   "source": [
    "df.drop('college_id',axis=1,inplace=True)"
   ]
  },
  {
   "cell_type": "code",
   "execution_count": 18,
   "id": "7ef1c7dd",
   "metadata": {},
   "outputs": [],
   "source": [
    "df.to_csv(\"data/data.csv\",index=False)"
   ]
  },
  {
   "cell_type": "code",
   "execution_count": 19,
   "id": "ef999dba-7d3b-4cb5-8907-0c73a99c353a",
   "metadata": {},
   "outputs": [],
   "source": [
    "from sklearn.preprocessing import LabelEncoder, StandardScaler"
   ]
  },
  {
   "cell_type": "code",
   "execution_count": 20,
   "id": "825c512d-0c2c-45ed-a5ae-a44f0692e270",
   "metadata": {},
   "outputs": [],
   "source": [
    "scaler = StandardScaler()\n",
    "\n",
    "num_cols = df.select_dtypes(include='number').columns\n",
    "for i in num_cols:\n",
    "    df[i] = scaler.fit_transform(df[[i]])"
   ]
  },
  {
   "cell_type": "code",
   "execution_count": 21,
   "id": "0dfe7451-7237-4bf8-ac0f-eaed52b8cbd9",
   "metadata": {},
   "outputs": [],
   "source": [
    "enc = LabelEncoder()\n",
    "\n",
    "cat_cols = df.select_dtypes(exclude='number').columns\n",
    "for i in cat_cols:\n",
    "    df[i] = enc.fit_transform(df[i])"
   ]
  },
  {
   "cell_type": "code",
   "execution_count": 22,
   "id": "71daed3c",
   "metadata": {},
   "outputs": [
    {
     "data": {
      "text/plain": [
       "Index(['internship_experience', 'placement'], dtype='object')"
      ]
     },
     "execution_count": 22,
     "metadata": {},
     "output_type": "execute_result"
    }
   ],
   "source": [
    "cat_cols"
   ]
  },
  {
   "cell_type": "code",
   "execution_count": 23,
   "id": "1c2914e6",
   "metadata": {},
   "outputs": [
    {
     "data": {
      "text/plain": [
       "Index(['iq', 'prev_sem_result', 'cgpa', 'academic_performance',\n",
       "       'extra_curricular_score', 'communication_skills', 'projects_completed'],\n",
       "      dtype='object')"
      ]
     },
     "execution_count": 23,
     "metadata": {},
     "output_type": "execute_result"
    }
   ],
   "source": [
    "num_cols"
   ]
  },
  {
   "cell_type": "code",
   "execution_count": 24,
   "id": "50f7a921-55ad-4463-9263-14dcc18c2b1d",
   "metadata": {},
   "outputs": [
    {
     "data": {
      "text/html": [
       "<div>\n",
       "<style scoped>\n",
       "    .dataframe tbody tr th:only-of-type {\n",
       "        vertical-align: middle;\n",
       "    }\n",
       "\n",
       "    .dataframe tbody tr th {\n",
       "        vertical-align: top;\n",
       "    }\n",
       "\n",
       "    .dataframe thead th {\n",
       "        text-align: right;\n",
       "    }\n",
       "</style>\n",
       "<table border=\"1\" class=\"dataframe\">\n",
       "  <thead>\n",
       "    <tr style=\"text-align: right;\">\n",
       "      <th></th>\n",
       "      <th>iq</th>\n",
       "      <th>prev_sem_result</th>\n",
       "      <th>cgpa</th>\n",
       "      <th>academic_performance</th>\n",
       "      <th>internship_experience</th>\n",
       "      <th>extra_curricular_score</th>\n",
       "      <th>communication_skills</th>\n",
       "      <th>projects_completed</th>\n",
       "      <th>placement</th>\n",
       "    </tr>\n",
       "  </thead>\n",
       "  <tbody>\n",
       "    <tr>\n",
       "      <th>0</th>\n",
       "      <td>0.500135</td>\n",
       "      <td>-0.639521</td>\n",
       "      <td>-0.851919</td>\n",
       "      <td>0.853921</td>\n",
       "      <td>0</td>\n",
       "      <td>0.958593</td>\n",
       "      <td>0.840550</td>\n",
       "      <td>0.866381</td>\n",
       "      <td>0</td>\n",
       "    </tr>\n",
       "    <tr>\n",
       "      <th>1</th>\n",
       "      <td>-0.164214</td>\n",
       "      <td>-1.392572</td>\n",
       "      <td>-1.470939</td>\n",
       "      <td>0.853921</td>\n",
       "      <td>0</td>\n",
       "      <td>0.642131</td>\n",
       "      <td>0.840550</td>\n",
       "      <td>-1.464794</td>\n",
       "      <td>0</td>\n",
       "    </tr>\n",
       "    <tr>\n",
       "      <th>2</th>\n",
       "      <td>0.633004</td>\n",
       "      <td>-1.503111</td>\n",
       "      <td>-1.158028</td>\n",
       "      <td>1.201949</td>\n",
       "      <td>0</td>\n",
       "      <td>-0.623713</td>\n",
       "      <td>-1.572644</td>\n",
       "      <td>-0.882000</td>\n",
       "      <td>0</td>\n",
       "    </tr>\n",
       "    <tr>\n",
       "      <th>3</th>\n",
       "      <td>1.496657</td>\n",
       "      <td>-1.427115</td>\n",
       "      <td>-1.212447</td>\n",
       "      <td>0.157865</td>\n",
       "      <td>1</td>\n",
       "      <td>-1.256636</td>\n",
       "      <td>0.151066</td>\n",
       "      <td>-0.882000</td>\n",
       "      <td>0</td>\n",
       "    </tr>\n",
       "    <tr>\n",
       "      <th>4</th>\n",
       "      <td>-0.230648</td>\n",
       "      <td>0.258612</td>\n",
       "      <td>0.107220</td>\n",
       "      <td>0.505893</td>\n",
       "      <td>0</td>\n",
       "      <td>0.958593</td>\n",
       "      <td>1.530034</td>\n",
       "      <td>-0.299206</td>\n",
       "      <td>0</td>\n",
       "    </tr>\n",
       "  </tbody>\n",
       "</table>\n",
       "</div>"
      ],
      "text/plain": [
       "         iq  prev_sem_result      cgpa  academic_performance  \\\n",
       "0  0.500135        -0.639521 -0.851919              0.853921   \n",
       "1 -0.164214        -1.392572 -1.470939              0.853921   \n",
       "2  0.633004        -1.503111 -1.158028              1.201949   \n",
       "3  1.496657        -1.427115 -1.212447              0.157865   \n",
       "4 -0.230648         0.258612  0.107220              0.505893   \n",
       "\n",
       "   internship_experience  extra_curricular_score  communication_skills  \\\n",
       "0                      0                0.958593              0.840550   \n",
       "1                      0                0.642131              0.840550   \n",
       "2                      0               -0.623713             -1.572644   \n",
       "3                      1               -1.256636              0.151066   \n",
       "4                      0                0.958593              1.530034   \n",
       "\n",
       "   projects_completed  placement  \n",
       "0            0.866381          0  \n",
       "1           -1.464794          0  \n",
       "2           -0.882000          0  \n",
       "3           -0.882000          0  \n",
       "4           -0.299206          0  "
      ]
     },
     "execution_count": 24,
     "metadata": {},
     "output_type": "execute_result"
    }
   ],
   "source": [
    "df.head()"
   ]
  },
  {
   "cell_type": "code",
   "execution_count": null,
   "id": "7d053083-266a-4495-af3a-5a9bc2dcbfce",
   "metadata": {},
   "outputs": [],
   "source": []
  }
 ],
 "metadata": {
  "kernelspec": {
   "display_name": "Python 3",
   "language": "python",
   "name": "python3"
  },
  "language_info": {
   "codemirror_mode": {
    "name": "ipython",
    "version": 3
   },
   "file_extension": ".py",
   "mimetype": "text/x-python",
   "name": "python",
   "nbconvert_exporter": "python",
   "pygments_lexer": "ipython3",
   "version": "3.9.23"
  }
 },
 "nbformat": 4,
 "nbformat_minor": 5
}
